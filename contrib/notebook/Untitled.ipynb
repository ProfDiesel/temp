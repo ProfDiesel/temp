{
 "cells": [
  {
   "cell_type": "code",
   "execution_count": 1,
   "metadata": {},
   "outputs": [
    {
     "data": {
      "text/html": [
       "<style>.container { width:100% !important; }</style>"
      ],
      "text/plain": [
       "<IPython.core.display.HTML object>"
      ]
     },
     "metadata": {},
     "output_type": "display_data"
    }
   ],
   "source": [
    "from IPython.core.display import display, HTML\n",
    "display(HTML(\"<style>.container { width:100% !important; }</style>\"))"
   ]
  },
  {
   "cell_type": "code",
   "execution_count": 2,
   "metadata": {},
   "outputs": [],
   "source": [
    "from pathlib import Path\n",
    "\n",
    "import cppyy\n",
    "\n",
    "root = Path('/home/jonathan/dev/pipo/temp')\n",
    "dependencies = Path('/home/jonathan/dev/pipo/dependencies')\n",
    "\n",
    "for d in ('contrib/notebook', 'src', 'include'):\n",
    "    cppyy.add_include_path(str(root / d))\n",
    "\n",
    "cppyy.cppdef('#include \"trigger_helper.hpp\"')\n",
    "\n",
    "cppyy.add_library_path(str(root / 'build/contrib/notebook/debug'))\n",
    "cppyy.load_library('trigger_helper')\n",
    "\n",
    "wrapped = cppyy.gbl.wrapped\n",
    "feed = cppyy.gbl.feed"
   ]
  },
  {
   "cell_type": "code",
   "execution_count": 3,
   "metadata": {},
   "outputs": [],
   "source": [
    "config = '''\\\n",
    "entrypoint.instant_threshold <- 2;\n",
    "entrypoint.threshold <- 3;\n",
    "entrypoint.period <- 10;'''\n",
    "trigger = wrapped.trigger(config)"
   ]
  },
  {
   "cell_type": "code",
   "execution_count": 6,
   "metadata": {},
   "outputs": [
    {
     "data": {
      "text/plain": [
       "False"
      ]
     },
     "execution_count": 6,
     "metadata": {},
     "output_type": "execute_result"
    }
   ],
   "source": [
    "trigger(0, feed.encode_update(feed.field.b0, 0))\n",
    "trigger(1, feed.encode_update(feed.field.b0, 10))\n",
    "trigger(2, feed.encode_update(feed.field.b0, 20))"
   ]
  },
  {
   "cell_type": "code",
   "execution_count": 7,
   "metadata": {},
   "outputs": [
    {
     "data": {
      "text/plain": [
       "'\\nimport dpkt\\nimport datashader\\nimport parquet\\n\\nfor timestamp, update in read_pcap():\\n    backtest.run(trigger, timestamp, update, lambda timestamp: return True)\\n'"
      ]
     },
     "execution_count": 7,
     "metadata": {},
     "output_type": "execute_result"
    }
   ],
   "source": [
    "'''\n",
    "import dpkt\n",
    "import datashader\n",
    "import parquet\n",
    "\n",
    "for timestamp, update in read_pcap():\n",
    "    backtest.run(trigger, timestamp, update, lambda timestamp: return True)\n",
    "'''"
   ]
  },
  {
   "cell_type": "code",
   "execution_count": 14,
   "metadata": {},
   "outputs": [
    {
     "data": {
      "text/html": [
       "<div>\n",
       "<style scoped>\n",
       "    .dataframe tbody tr th:only-of-type {\n",
       "        vertical-align: middle;\n",
       "    }\n",
       "\n",
       "    .dataframe tbody tr th {\n",
       "        vertical-align: top;\n",
       "    }\n",
       "\n",
       "    .dataframe thead th {\n",
       "        text-align: right;\n",
       "    }\n",
       "</style>\n",
       "<table border=\"1\" class=\"dataframe\">\n",
       "  <thead>\n",
       "    <tr style=\"text-align: right;\">\n",
       "      <th></th>\n",
       "      <th>value</th>\n",
       "      <th>value_returns</th>\n",
       "    </tr>\n",
       "    <tr>\n",
       "      <th>date</th>\n",
       "      <th></th>\n",
       "      <th></th>\n",
       "    </tr>\n",
       "  </thead>\n",
       "  <tbody>\n",
       "    <tr>\n",
       "      <th>1998-01-02</th>\n",
       "      <td>8.35560</td>\n",
       "      <td>NaN</td>\n",
       "    </tr>\n",
       "    <tr>\n",
       "      <th>1998-01-05</th>\n",
       "      <td>8.95948</td>\n",
       "      <td>0.60388</td>\n",
       "    </tr>\n",
       "    <tr>\n",
       "      <th>1998-01-06</th>\n",
       "      <td>8.53183</td>\n",
       "      <td>-0.42765</td>\n",
       "    </tr>\n",
       "    <tr>\n",
       "      <th>1998-01-07</th>\n",
       "      <td>7.85746</td>\n",
       "      <td>-0.67437</td>\n",
       "    </tr>\n",
       "    <tr>\n",
       "      <th>1998-01-08</th>\n",
       "      <td>7.68123</td>\n",
       "      <td>-0.17623</td>\n",
       "    </tr>\n",
       "    <tr>\n",
       "      <th>...</th>\n",
       "      <td>...</td>\n",
       "      <td>...</td>\n",
       "    </tr>\n",
       "    <tr>\n",
       "      <th>2013-08-05</th>\n",
       "      <td>36.04980</td>\n",
       "      <td>-0.19920</td>\n",
       "    </tr>\n",
       "    <tr>\n",
       "      <th>2013-08-06</th>\n",
       "      <td>36.05970</td>\n",
       "      <td>0.00990</td>\n",
       "    </tr>\n",
       "    <tr>\n",
       "      <th>2013-08-07</th>\n",
       "      <td>36.01000</td>\n",
       "      <td>-0.04970</td>\n",
       "    </tr>\n",
       "    <tr>\n",
       "      <th>2013-08-08</th>\n",
       "      <td>36.25000</td>\n",
       "      <td>0.24000</td>\n",
       "    </tr>\n",
       "    <tr>\n",
       "      <th>2013-08-09</th>\n",
       "      <td>36.01000</td>\n",
       "      <td>-0.24000</td>\n",
       "    </tr>\n",
       "  </tbody>\n",
       "</table>\n",
       "<p>3926 rows × 2 columns</p>\n",
       "</div>"
      ],
      "text/plain": [
       "               value  value_returns\n",
       "date                               \n",
       "1998-01-02   8.35560            NaN\n",
       "1998-01-05   8.95948        0.60388\n",
       "1998-01-06   8.53183       -0.42765\n",
       "1998-01-07   7.85746       -0.67437\n",
       "1998-01-08   7.68123       -0.17623\n",
       "...              ...            ...\n",
       "2013-08-05  36.04980       -0.19920\n",
       "2013-08-06  36.05970        0.00990\n",
       "2013-08-07  36.01000       -0.04970\n",
       "2013-08-08  36.25000        0.24000\n",
       "2013-08-09  36.01000       -0.24000\n",
       "\n",
       "[3926 rows x 2 columns]"
      ]
     },
     "execution_count": 14,
     "metadata": {},
     "output_type": "execute_result"
    }
   ],
   "source": [
    "import pandas as pd\n",
    "import numpy as np\n",
    "\n",
    "signal = np.random.normal(0, 0.3, size=n).cumsum() + 50\n",
    "noise = lambda var, bias, n: np.random.normal(bias, var, n)\n",
    "data = {c: signal + noise(1, 10*(np.random.random() - 0.5), n) for c in cols}\n",
    "\n",
    "data = pd.read_csv('/home/jonathan/Téléchargements/quantquote_daily_sp500_83986/daily/table_altr.csv', header=None, parse_dates=['date'],\n",
    "                       names=['date', 'foo', 'o', 'h', 'l', 'c', 'v'])\n",
    "data = data.set_index('date')\n",
    "data = pd.DataFrame({'value': data.c, 'value_returns': data.c.diff()})\n",
    "data"
   ]
  },
  {
   "cell_type": "code",
   "execution_count": 10,
   "metadata": {},
   "outputs": [
    {
     "data": {
      "text/html": [
       "<div>\n",
       "<style scoped>\n",
       "    .dataframe tbody tr th:only-of-type {\n",
       "        vertical-align: middle;\n",
       "    }\n",
       "\n",
       "    .dataframe tbody tr th {\n",
       "        vertical-align: top;\n",
       "    }\n",
       "\n",
       "    .dataframe thead th {\n",
       "        text-align: right;\n",
       "    }\n",
       "</style>\n",
       "<table border=\"1\" class=\"dataframe\">\n",
       "  <thead>\n",
       "    <tr style=\"text-align: right;\">\n",
       "      <th></th>\n",
       "      <th>19980102</th>\n",
       "      <th>0</th>\n",
       "      <th>7.93031</th>\n",
       "      <th>8.53183</th>\n",
       "      <th>7.81282</th>\n",
       "      <th>8.3556</th>\n",
       "      <th>8410363.51300001</th>\n",
       "    </tr>\n",
       "  </thead>\n",
       "  <tbody>\n",
       "    <tr>\n",
       "      <th>0</th>\n",
       "      <td>19980105</td>\n",
       "      <td>0</td>\n",
       "      <td>8.43079</td>\n",
       "      <td>8.95948</td>\n",
       "      <td>8.31331</td>\n",
       "      <td>8.95948</td>\n",
       "      <td>1.592616e+07</td>\n",
       "    </tr>\n",
       "    <tr>\n",
       "      <th>1</th>\n",
       "      <td>19980106</td>\n",
       "      <td>0</td>\n",
       "      <td>9.10516</td>\n",
       "      <td>9.11926</td>\n",
       "      <td>8.43079</td>\n",
       "      <td>8.53183</td>\n",
       "      <td>9.414742e+06</td>\n",
       "    </tr>\n",
       "    <tr>\n",
       "      <th>2</th>\n",
       "      <td>19980107</td>\n",
       "      <td>0</td>\n",
       "      <td>8.34150</td>\n",
       "      <td>8.57647</td>\n",
       "      <td>7.66713</td>\n",
       "      <td>7.85746</td>\n",
       "      <td>1.655899e+07</td>\n",
       "    </tr>\n",
       "    <tr>\n",
       "      <th>3</th>\n",
       "      <td>19980108</td>\n",
       "      <td>0</td>\n",
       "      <td>7.87156</td>\n",
       "      <td>8.19582</td>\n",
       "      <td>7.60839</td>\n",
       "      <td>7.68123</td>\n",
       "      <td>1.857243e+07</td>\n",
       "    </tr>\n",
       "    <tr>\n",
       "      <th>4</th>\n",
       "      <td>19980109</td>\n",
       "      <td>0</td>\n",
       "      <td>7.75407</td>\n",
       "      <td>7.75407</td>\n",
       "      <td>6.96222</td>\n",
       "      <td>7.02097</td>\n",
       "      <td>3.319418e+07</td>\n",
       "    </tr>\n",
       "    <tr>\n",
       "      <th>...</th>\n",
       "      <td>...</td>\n",
       "      <td>...</td>\n",
       "      <td>...</td>\n",
       "      <td>...</td>\n",
       "      <td>...</td>\n",
       "      <td>...</td>\n",
       "      <td>...</td>\n",
       "    </tr>\n",
       "    <tr>\n",
       "      <th>3920</th>\n",
       "      <td>20130805</td>\n",
       "      <td>0</td>\n",
       "      <td>36.07970</td>\n",
       "      <td>36.25890</td>\n",
       "      <td>35.97010</td>\n",
       "      <td>36.04980</td>\n",
       "      <td>2.045475e+06</td>\n",
       "    </tr>\n",
       "    <tr>\n",
       "      <th>3921</th>\n",
       "      <td>20130806</td>\n",
       "      <td>0</td>\n",
       "      <td>36.00000</td>\n",
       "      <td>36.35850</td>\n",
       "      <td>35.88050</td>\n",
       "      <td>36.05970</td>\n",
       "      <td>2.869026e+06</td>\n",
       "    </tr>\n",
       "    <tr>\n",
       "      <th>3922</th>\n",
       "      <td>20130807</td>\n",
       "      <td>0</td>\n",
       "      <td>35.91040</td>\n",
       "      <td>36.17930</td>\n",
       "      <td>35.75100</td>\n",
       "      <td>36.01000</td>\n",
       "      <td>2.510542e+06</td>\n",
       "    </tr>\n",
       "    <tr>\n",
       "      <th>3923</th>\n",
       "      <td>20130808</td>\n",
       "      <td>0</td>\n",
       "      <td>36.34000</td>\n",
       "      <td>36.36000</td>\n",
       "      <td>35.97000</td>\n",
       "      <td>36.25000</td>\n",
       "      <td>2.626758e+06</td>\n",
       "    </tr>\n",
       "    <tr>\n",
       "      <th>3924</th>\n",
       "      <td>20130809</td>\n",
       "      <td>0</td>\n",
       "      <td>36.17000</td>\n",
       "      <td>36.28000</td>\n",
       "      <td>35.90000</td>\n",
       "      <td>36.01000</td>\n",
       "      <td>1.547038e+06</td>\n",
       "    </tr>\n",
       "  </tbody>\n",
       "</table>\n",
       "<p>3925 rows × 7 columns</p>\n",
       "</div>"
      ],
      "text/plain": [
       "      19980102  0   7.93031   8.53183   7.81282    8.3556  8410363.51300001\n",
       "0     19980105  0   8.43079   8.95948   8.31331   8.95948      1.592616e+07\n",
       "1     19980106  0   9.10516   9.11926   8.43079   8.53183      9.414742e+06\n",
       "2     19980107  0   8.34150   8.57647   7.66713   7.85746      1.655899e+07\n",
       "3     19980108  0   7.87156   8.19582   7.60839   7.68123      1.857243e+07\n",
       "4     19980109  0   7.75407   7.75407   6.96222   7.02097      3.319418e+07\n",
       "...        ... ..       ...       ...       ...       ...               ...\n",
       "3920  20130805  0  36.07970  36.25890  35.97010  36.04980      2.045475e+06\n",
       "3921  20130806  0  36.00000  36.35850  35.88050  36.05970      2.869026e+06\n",
       "3922  20130807  0  35.91040  36.17930  35.75100  36.01000      2.510542e+06\n",
       "3923  20130808  0  36.34000  36.36000  35.97000  36.25000      2.626758e+06\n",
       "3924  20130809  0  36.17000  36.28000  35.90000  36.01000      1.547038e+06\n",
       "\n",
       "[3925 rows x 7 columns]"
      ]
     },
     "execution_count": 10,
     "metadata": {},
     "output_type": "execute_result"
    }
   ],
   "source": []
  },
  {
   "cell_type": "code",
   "execution_count": 17,
   "metadata": {},
   "outputs": [
    {
     "ename": "NameError",
     "evalue": "name 'df' is not defined",
     "output_type": "error",
     "traceback": [
      "\u001b[0;31m---------------------------------------------------------------------------\u001b[0m",
      "\u001b[0;31mNameError\u001b[0m                                 Traceback (most recent call last)",
      "\u001b[0;32m<ipython-input-17-7e33795d7f2a>\u001b[0m in \u001b[0;36m<module>\u001b[0;34m\u001b[0m\n\u001b[1;32m      1\u001b[0m \u001b[0;32mimport\u001b[0m \u001b[0mdatashader\u001b[0m \u001b[0;32mas\u001b[0m \u001b[0mds\u001b[0m\u001b[0;34m\u001b[0m\u001b[0;34m\u001b[0m\u001b[0m\n\u001b[0;32m----> 2\u001b[0;31m \u001b[0mx_range\u001b[0m \u001b[0;34m=\u001b[0m \u001b[0;34m(\u001b[0m\u001b[0mdf\u001b[0m\u001b[0;34m.\u001b[0m\u001b[0miloc\u001b[0m\u001b[0;34m[\u001b[0m\u001b[0;36m0\u001b[0m\u001b[0;34m]\u001b[0m\u001b[0;34m.\u001b[0m\u001b[0mITime\u001b[0m\u001b[0;34m,\u001b[0m \u001b[0mdf\u001b[0m\u001b[0;34m.\u001b[0m\u001b[0miloc\u001b[0m\u001b[0;34m[\u001b[0m\u001b[0;34m-\u001b[0m\u001b[0;36m1\u001b[0m\u001b[0;34m]\u001b[0m\u001b[0;34m.\u001b[0m\u001b[0mITime\u001b[0m\u001b[0;34m)\u001b[0m\u001b[0;34m\u001b[0m\u001b[0;34m\u001b[0m\u001b[0m\n\u001b[0m\u001b[1;32m      3\u001b[0m \u001b[0my_range\u001b[0m \u001b[0;34m=\u001b[0m \u001b[0;34m(\u001b[0m\u001b[0;36m1.2\u001b[0m\u001b[0;34m*\u001b[0m\u001b[0msignal\u001b[0m\u001b[0;34m.\u001b[0m\u001b[0mmin\u001b[0m\u001b[0;34m(\u001b[0m\u001b[0;34m)\u001b[0m\u001b[0;34m,\u001b[0m \u001b[0;36m1.2\u001b[0m\u001b[0;34m*\u001b[0m\u001b[0msignal\u001b[0m\u001b[0;34m.\u001b[0m\u001b[0mmax\u001b[0m\u001b[0;34m(\u001b[0m\u001b[0;34m)\u001b[0m\u001b[0;34m)\u001b[0m\u001b[0;34m\u001b[0m\u001b[0;34m\u001b[0m\u001b[0m\n\u001b[1;32m      4\u001b[0m \u001b[0;34m\u001b[0m\u001b[0m\n\u001b[1;32m      5\u001b[0m \u001b[0;32mimport\u001b[0m \u001b[0mholoviews\u001b[0m \u001b[0;32mas\u001b[0m \u001b[0mhv\u001b[0m\u001b[0;34m\u001b[0m\u001b[0;34m\u001b[0m\u001b[0m\n",
      "\u001b[0;31mNameError\u001b[0m: name 'df' is not defined"
     ]
    }
   ],
   "source": [
    "import datashader as ds\n",
    "x_range = (df.iloc[0].ITime, df.iloc[-1].ITime)\n",
    "y_range = (1.2*signal.min(), 1.2*signal.max())\n",
    "\n",
    "import holoviews as hv\n",
    "from holoviews.operation.datashader import datashade\n",
    "hv.extension('bokeh')"
   ]
  },
  {
   "cell_type": "code",
   "execution_count": null,
   "metadata": {},
   "outputs": [],
   "source": []
  }
 ],
 "metadata": {
  "kernelspec": {
   "display_name": "Python 3",
   "language": "python",
   "name": "python3"
  },
  "language_info": {
   "codemirror_mode": {
    "name": "ipython",
    "version": 3
   },
   "file_extension": ".py",
   "mimetype": "text/x-python",
   "name": "python",
   "nbconvert_exporter": "python",
   "pygments_lexer": "ipython3",
   "version": "3.8.6"
  }
 },
 "nbformat": 4,
 "nbformat_minor": 4
}
